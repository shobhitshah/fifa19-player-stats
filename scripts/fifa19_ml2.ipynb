{
 "cells": [
  {
   "cell_type": "markdown",
   "metadata": {},
   "source": [
    "# Initialization"
   ]
  },
  {
   "cell_type": "code",
   "execution_count": 1,
   "metadata": {},
   "outputs": [],
   "source": [
    "import pandas as pd\n",
    "import numpy as np\n",
    "import re\n",
    "from matplotlib import pyplot as plt\n",
    "from sklearn import linear_model\n",
    "from sklearn import ensemble\n",
    "from sklearn.metrics import mean_absolute_error\n",
    "from sklearn.model_selection import cross_val_score\n",
    "from sklearn.model_selection import cross_val_predict\n",
    "from sklearn.metrics import mean_squared_error, r2_score\n",
    "from sklearn.model_selection import train_test_split\n",
    "from sklearn.pipeline import make_pipeline, make_union\n",
    "from sklearn.impute import SimpleImputer, MissingIndicator\n",
    "import my_utils\n"
   ]
  },
  {
   "cell_type": "code",
   "execution_count": 2,
   "metadata": {},
   "outputs": [],
   "source": [
    "train=pd.read_csv('../data/data.csv.zip', compression='zip', index_col=1)\n",
    "train=train.drop(columns=['Unnamed: 0'])"
   ]
  },
  {
   "cell_type": "markdown",
   "metadata": {},
   "source": [
    "# Data cleaning"
   ]
  },
  {
   "cell_type": "code",
   "execution_count": 3,
   "metadata": {},
   "outputs": [
    {
     "data": {
      "text/plain": [
       "Index(['name', 'age', 'nationality', 'overall', 'potential', 'club', 'value',\n",
       "       'wage', 'special', 'preferred_foot', 'international_reputation',\n",
       "       'weak_foot', 'skill_moves', 'work_rate', 'body_type', 'real_face',\n",
       "       'position', 'jersey_number', 'joined', 'loaned_from',\n",
       "       'contract_valid_until', 'height', 'weight', 'ls', 'st', 'rs', 'lw',\n",
       "       'lf', 'cf', 'rf', 'rw', 'lam', 'cam', 'ram', 'lm', 'lcm', 'cm', 'rcm',\n",
       "       'rm', 'lwb', 'ldm', 'cdm', 'rdm', 'rwb', 'lb', 'lcb', 'cb', 'rcb', 'rb',\n",
       "       'crossing', 'finishing', 'headingaccuracy', 'shortpassing', 'volleys',\n",
       "       'dribbling', 'curve', 'fkaccuracy', 'longpassing', 'ballcontrol',\n",
       "       'acceleration', 'sprintspeed', 'agility', 'reactions', 'balance',\n",
       "       'shotpower', 'jumping', 'stamina', 'strength', 'longshots',\n",
       "       'aggression', 'interceptions', 'positioning', 'vision', 'penalties',\n",
       "       'composure', 'marking', 'standingtackle', 'slidingtackle', 'gkdiving',\n",
       "       'gkhandling', 'gkkicking', 'gkpositioning', 'gkreflexes',\n",
       "       'release_clause', 'value_unit', 'nvalue', 'wage_unit', 'nwage'],\n",
       "      dtype='object')"
      ]
     },
     "execution_count": 3,
     "metadata": {},
     "output_type": "execute_result"
    }
   ],
   "source": [
    "train.columns = my_utils.clean_column_names(train)\n",
    "train = my_utils.preprocess_columns(train)\n",
    "train.columns"
   ]
  },
  {
   "cell_type": "markdown",
   "metadata": {},
   "source": [
    "# Features selection"
   ]
  },
  {
   "cell_type": "code",
   "execution_count": 4,
   "metadata": {},
   "outputs": [],
   "source": [
    "#train.select_dtypes(exclude=['object'])"
   ]
  },
  {
   "cell_type": "code",
   "execution_count": 5,
   "metadata": {},
   "outputs": [],
   "source": [
    "features = ['age', 'potential', \n",
    "                        'international_reputation',\n",
    "                        'weak_foot', 'skill_moves', 'crossing', 'finishing', 'headingaccuracy', \n",
    "                        'shortpassing', 'volleys', 'dribbling', 'curve', 'fkaccuracy', 'longpassing',\n",
    "                        'ballcontrol', 'acceleration', 'sprintspeed',\n",
    "                        'agility', 'reactions', 'balance', 'shotpower', 'jumping', 'stamina', \n",
    "                        'strength',\n",
    "                        'longshots', 'aggression', 'interceptions', 'positioning', 'vision', \n",
    "                        'penalties',\n",
    "                        'composure', 'marking', 'standingtackle', 'slidingtackle', 'gkdiving', \n",
    "                        'gkhandling', 'gkkicking', 'gkpositioning', 'gkreflexes']\n",
    "\n",
    "target = ['overall']\n"
   ]
  },
  {
   "cell_type": "markdown",
   "metadata": {},
   "source": [
    "# Drop missing values."
   ]
  },
  {
   "cell_type": "code",
   "execution_count": 6,
   "metadata": {},
   "outputs": [],
   "source": [
    "def drop_missing_values(train, columns):\n",
    "    df = train.dropna(subset=columns)\n",
    "    return df\n"
   ]
  },
  {
   "cell_type": "code",
   "execution_count": 7,
   "metadata": {},
   "outputs": [],
   "source": [
    "t=features.copy()\n",
    "t.append('overall')"
   ]
  },
  {
   "cell_type": "code",
   "execution_count": 8,
   "metadata": {},
   "outputs": [],
   "source": [
    "# train_d = train.dropna(subset=t)\n",
    "train_d = drop_missing_values(train, t)"
   ]
  },
  {
   "cell_type": "code",
   "execution_count": 9,
   "metadata": {},
   "outputs": [],
   "source": [
    "X=train_d[features]\n",
    "y=train_d.overall"
   ]
  },
  {
   "cell_type": "markdown",
   "metadata": {},
   "source": [
    "# Define Models"
   ]
  },
  {
   "cell_type": "code",
   "execution_count": 10,
   "metadata": {},
   "outputs": [],
   "source": [
    "models = []\n",
    "models.append(('LR', linear_model.LinearRegression()))\n",
    "models.append(('BR', linear_model.BayesianRidge(n_iter=1000)))\n",
    "models.append(('Huber', linear_model.HuberRegressor(alpha=0.0001, epsilon=1.35, fit_intercept=True, \n",
    "                                                    max_iter=100, tol=1e-05, warm_start=False)))\n",
    "models.append(('LarsCV', linear_model.LarsCV(max_iter=1000, eps=1.35, cv=10)))\n",
    "models.append(('LassoCV', linear_model.LassoCV(max_iter=1000, cv=5)))\n",
    "models.append(('RF', ensemble.RandomForestRegressor(n_estimators=10)))"
   ]
  },
  {
   "cell_type": "markdown",
   "metadata": {},
   "source": [
    "# Model fitting and prediction"
   ]
  },
  {
   "cell_type": "code",
   "execution_count": 11,
   "metadata": {},
   "outputs": [],
   "source": [
    "def model_score(name, model, X, y, val_y, y_pred, icv):\n",
    "    cvscore = cross_val_score(model, X, y, cv=icv)\n",
    "    print('Model {0} score: {1:.4f} and std dev: {2:.4f}'.format(name, cvscore.mean(), cvscore.std()))\n",
    "    print('Variance score: %.4f' % r2_score(val_y, y_pred))\n",
    "    return cvscore, r2_score(val_y, y_pred)\n"
   ]
  },
  {
   "cell_type": "markdown",
   "metadata": {},
   "source": [
    "## Using cross validation"
   ]
  },
  {
   "cell_type": "code",
   "execution_count": 12,
   "metadata": {},
   "outputs": [],
   "source": [
    "def cv_fit_and_predict(models, X, y):\n",
    "    results = []\n",
    "    train_X, val_X, train_y, val_y = train_test_split(X, y, random_state = 0)\n",
    "    for name, model in models:\n",
    "        model.fit(train_X, train_y)\n",
    "        y_pred = model.predict(val_X)\n",
    "        score, r2 = model_score(name, model, X, y, val_y, y_pred, 10)\n",
    "        results.append((name, score, r2))\n",
    "    print(\"Done\")\n",
    "    return results\n"
   ]
  },
  {
   "cell_type": "code",
   "execution_count": 13,
   "metadata": {},
   "outputs": [
    {
     "name": "stdout",
     "output_type": "stream",
     "text": [
      "Model LR score: -5.0360 and std dev: 3.5004\n",
      "Variance score: 0.9274\n",
      "Model BR score: -5.0340 and std dev: 3.5073\n",
      "Variance score: 0.9274\n",
      "Model Huber score: -5.6482 and std dev: 3.7228\n",
      "Variance score: 0.9143\n",
      "Model LarsCV score: -8.0034 and std dev: 2.7903\n",
      "Variance score: 0.8433\n",
      "Model LassoCV score: -5.0984 and std dev: 3.6073\n",
      "Variance score: 0.9264\n",
      "Model RF score: -3.4293 and std dev: 1.2868\n",
      "Variance score: 0.9710\n",
      "Done\n"
     ]
    }
   ],
   "source": [
    "results = cv_fit_and_predict(models, X, y)"
   ]
  },
  {
   "cell_type": "markdown",
   "metadata": {},
   "source": [
    "# Validation and Results"
   ]
  },
  {
   "cell_type": "code",
   "execution_count": 14,
   "metadata": {},
   "outputs": [],
   "source": [
    "def model_validation(results):\n",
    "    fig, ax = plt.subplots()\n",
    "    ax.boxplot(results[:,1])\n",
    "    ax.set_xticklabels(results[:,0])\n",
    "    ax.set_title('Model CV score')\n",
    "    plt.show()\n",
    "    \n",
    "    plt.figure(figsize=(8, 5))\n",
    "    plt.bar(results[:,0], results[:,2])\n",
    "    plt.xlabel('Models')\n",
    "    plt.ylabel('Var score')\n",
    "    plt.title('Models variance score')\n",
    "    plt.show()\n",
    "    \n",
    "    return 0"
   ]
  },
  {
   "cell_type": "code",
   "execution_count": 15,
   "metadata": {},
   "outputs": [],
   "source": [
    "results=np.array(results)"
   ]
  },
  {
   "cell_type": "code",
   "execution_count": 16,
   "metadata": {},
   "outputs": [
    {
     "data": {
      "image/png": "[encoded data removed]",
      "text/plain": [
       "<Figure size 432x288 with 1 Axes>"
      ]
     },
     "metadata": {
      "needs_background": "light"
     },
     "output_type": "display_data"
    },
    {
     "data": {
      "image/png": "[encoded data removed]",
      "text/plain": [
       "<Figure size 576x360 with 1 Axes>"
      ]
     },
     "metadata": {
      "needs_background": "light"
     },
     "output_type": "display_data"
    }
   ],
   "source": [
    "status = model_validation(results)"
   ]
  },
  {
   "cell_type": "markdown",
   "metadata": {},
   "source": [
    "# Handling missing values - Imputation"
   ]
  },
  {
   "cell_type": "code",
   "execution_count": 17,
   "metadata": {},
   "outputs": [],
   "source": [
    "def imputation_cv(models, X, y):\n",
    "    results = []\n",
    "    train_X, val_X, train_y, val_y = train_test_split(X, y, random_state = 0)\n",
    "    for name, model in models:\n",
    "        my_pipeline = make_pipeline(SimpleImputer(), model)\n",
    "        my_pipeline.fit(train_X, train_y)\n",
    "        y_pred = my_pipeline.predict(val_X)\n",
    "        score, r2 = model_score(name, my_pipeline, X, y, val_y, y_pred, 10)\n",
    "        results.append((name, score, r2))\n",
    "    print(\"Done\")\n",
    "    return results\n"
   ]
  },
  {
   "cell_type": "code",
   "execution_count": 18,
   "metadata": {},
   "outputs": [
    {
     "name": "stdout",
     "output_type": "stream",
     "text": [
      "Model LR score: -5.2020 and std dev: 3.6650\n",
      "Variance score: 0.9235\n",
      "Model BR score: -5.2000 and std dev: 3.6724\n",
      "Variance score: 0.9235\n",
      "Model Huber score: -5.8744 and std dev: 3.8900\n",
      "Variance score: 0.9079\n",
      "Model LarsCV score: -8.2191 and std dev: 2.9275\n",
      "Variance score: 0.8368\n",
      "Model LassoCV score: -5.2673 and std dev: 3.7818\n",
      "Variance score: 0.9224\n",
      "Model RF score: -3.4017 and std dev: 1.3625\n",
      "Variance score: 0.9671\n",
      "Done\n"
     ]
    }
   ],
   "source": [
    "X = train[features]\n",
    "y = train.overall\n",
    "results = imputation_cv(models, X, y)"
   ]
  },
  {
   "cell_type": "code",
   "execution_count": 19,
   "metadata": {},
   "outputs": [
    {
     "data": {
      "image/png": "[encoded data removed]",
      "text/plain": [
       "<Figure size 432x288 with 1 Axes>"
      ]
     },
     "metadata": {
      "needs_background": "light"
     },
     "output_type": "display_data"
    },
    {
     "data": {
      "image/png": "[encoded data removed]",
      "text/plain": [
       "<Figure size 576x360 with 1 Axes>"
      ]
     },
     "metadata": {
      "needs_background": "light"
     },
     "output_type": "display_data"
    }
   ],
   "source": [
    "results=np.array(results)\n",
    "status = model_validation(results)"
   ]
  },
  {
   "cell_type": "markdown",
   "metadata": {},
   "source": [
    "# Imputation indicator "
   ]
  },
  {
   "cell_type": "code",
   "execution_count": 20,
   "metadata": {},
   "outputs": [],
   "source": [
    "X = train[features].copy()\n",
    "y = train.overall.copy()\n",
    "#X.columns[X.isnull().any()]\n",
    "#cols_with_missing = (col for col in X.columns if X[col].isnull().any())\n",
    "cols_with_missing = X.columns[X.isnull().any()].tolist()\n"
   ]
  },
  {
   "cell_type": "code",
   "execution_count": 21,
   "metadata": {},
   "outputs": [
    {
     "name": "stdout",
     "output_type": "stream",
     "text": [
      "Model LR score: -5.2004 and std dev: 3.6622\n",
      "Variance score: 0.9238\n",
      "Model BR score: -5.1985 and std dev: 3.6696\n",
      "Variance score: 0.9238\n",
      "Model Huber score: -5.8539 and std dev: 3.9021\n",
      "Variance score: 0.9077\n",
      "Model LarsCV score: -8.1894 and std dev: 2.9590\n",
      "Variance score: 0.8374\n",
      "Model LassoCV score: -5.2673 and std dev: 3.7818\n",
      "Variance score: 0.9224\n",
      "Model RF score: -3.4359 and std dev: 1.2487\n",
      "Variance score: 0.9682\n",
      "Done\n"
     ]
    }
   ],
   "source": [
    "# make new columns indicating what will be imputed\n",
    "for c in cols_with_missing:\n",
    "    X[c + '_missing'] = X[c].isnull()\n",
    "    #print(X[c].isnull().head())\n",
    "\n",
    "results = imputation_cv(models, X, y)\n"
   ]
  },
  {
   "cell_type": "code",
   "execution_count": 22,
   "metadata": {},
   "outputs": [
    {
     "data": {
      "image/png": "[encoded data removed]",
      "text/plain": [
       "<Figure size 432x288 with 1 Axes>"
      ]
     },
     "metadata": {
      "needs_background": "light"
     },
     "output_type": "display_data"
    },
    {
     "data": {
      "image/png": "[encoded data removed]",
      "text/plain": [
       "<Figure size 576x360 with 1 Axes>"
      ]
     },
     "metadata": {
      "needs_background": "light"
     },
     "output_type": "display_data"
    }
   ],
   "source": [
    "results=np.array(results)\n",
    "status = model_validation(results)"
   ]
  },
  {
   "cell_type": "code",
   "execution_count": null,
   "metadata": {},
   "outputs": [],
   "source": []
  }
 ],
 "metadata": {
  "kernelspec": {
   "display_name": "Python 3",
   "language": "python",
   "name": "python3"
  },
  "language_info": {
   "codemirror_mode": {
    "name": "ipython",
    "version": 3
   },
   "file_extension": ".py",
   "mimetype": "text/x-python",
   "name": "python",
   "nbconvert_exporter": "python",
   "pygments_lexer": "ipython3",
   "version": "3.7.2"
  }
 },
 "nbformat": 4,
 "nbformat_minor": 2
}
