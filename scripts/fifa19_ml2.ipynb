{
 "cells": [
  {
   "cell_type": "markdown",
   "metadata": {},
   "source": [
    "# Initialization"
   ]
  },
  {
   "cell_type": "code",
   "execution_count": 1,
   "metadata": {},
   "outputs": [],
   "source": [
    "import pandas as pd\n",
    "import numpy as np\n",
    "import re\n",
    "from matplotlib import pyplot as plt\n",
    "from sklearn import linear_model\n",
    "from sklearn import ensemble\n",
    "from sklearn.metrics import mean_absolute_error\n",
    "from sklearn.model_selection import cross_val_score\n",
    "from sklearn.model_selection import cross_val_predict\n",
    "from sklearn.metrics import mean_squared_error, r2_score\n",
    "from sklearn.model_selection import train_test_split\n"
   ]
  },
  {
   "cell_type": "code",
   "execution_count": 2,
   "metadata": {},
   "outputs": [],
   "source": [
    "train=pd.read_csv('../data/data.csv.zip', compression='zip', index_col=1)\n",
    "train=train.drop(columns=['Unnamed: 0'])"
   ]
  },
  {
   "cell_type": "markdown",
   "metadata": {},
   "source": [
    "# Data cleaning"
   ]
  },
  {
   "cell_type": "code",
   "execution_count": 3,
   "metadata": {},
   "outputs": [],
   "source": [
    "train.columns = train.columns.str.strip().str.lower().str.replace(' ', '_').str.replace('(', '').str.replace(')', '')\n",
    "train=train.drop(columns=['photo', 'flag', 'club_logo'])\n",
    "\n",
    "train['value_unit'] = train['value'].str[-1]\n",
    "train['nvalue'] = np.where(train['value_unit'] == '0', 0,\n",
    "                          train['value'].str[1:-1].replace(r'[a-zA-Z]',''))\n",
    "train['nvalue'] = train['nvalue'].astype(float)\n",
    "train['nvalue'] = np.where(train['value_unit'] == 'M', train['nvalue'], train['nvalue'] / 1000)\n",
    "\n",
    "train['wage_unit'] = train['wage'].str[-1]\n",
    "train['nwage'] = np.where(train['wage_unit'] == '0', 0,\n",
    "                          train['wage'].str[1:-1].replace(r'[a-zA-Z]',''))\n",
    "train['nwage'] = train['nwage'].astype(float)\n",
    "train['nwage'] = np.where(train['wage_unit'] == 'K', train['nwage'], train['nwage'] * 1000)\n"
   ]
  },
  {
   "cell_type": "markdown",
   "metadata": {},
   "source": [
    "# Features selection"
   ]
  },
  {
   "cell_type": "markdown",
   "metadata": {},
   "source": [
    "## Drop missing values."
   ]
  },
  {
   "cell_type": "code",
   "execution_count": 4,
   "metadata": {},
   "outputs": [],
   "source": [
    "def drop_missing_values(train):\n",
    "    df = train.dropna(subset=['aggression', 'overall', 'age', 'potential', \n",
    "                        'international_reputation',\n",
    "                        'weak_foot', 'skill_moves', 'crossing', 'finishing', 'headingaccuracy', \n",
    "                        'shortpassing', 'volleys', 'dribbling', 'curve', 'fkaccuracy', 'longpassing',\n",
    "                        'ballcontrol', 'acceleration', 'sprintspeed',\n",
    "                        'agility', 'reactions', 'balance', 'shotpower', 'jumping', 'stamina', \n",
    "                        'strength',\n",
    "                        'longshots', 'aggression', 'interceptions', 'positioning', 'vision', \n",
    "                        'penalties',\n",
    "                        'composure', 'marking', 'standingtackle', 'slidingtackle', 'gkdiving', \n",
    "                        'gkhandling', 'gkkicking', 'gkpositioning', 'gkreflexes'])\n",
    "    return df\n"
   ]
  },
  {
   "cell_type": "code",
   "execution_count": 5,
   "metadata": {},
   "outputs": [],
   "source": [
    "df = drop_missing_values(train)"
   ]
  },
  {
   "cell_type": "code",
   "execution_count": 6,
   "metadata": {},
   "outputs": [],
   "source": [
    "X = df[['aggression', 'age', 'potential', 'international_reputation',\n",
    "            'weak_foot', 'skill_moves', 'crossing', 'finishing', 'headingaccuracy', \n",
    "            'shortpassing', 'volleys', 'dribbling', 'curve', 'fkaccuracy', 'longpassing',\n",
    "            'ballcontrol', 'acceleration', 'sprintspeed',\n",
    "            'agility', 'reactions', 'balance', 'shotpower', 'jumping', 'stamina', 'strength',\n",
    "            'longshots', 'aggression', 'interceptions', 'positioning', 'vision', 'penalties',\n",
    "            'composure', 'marking', 'standingtackle', 'slidingtackle', 'gkdiving', \n",
    "            'gkhandling', 'gkkicking', 'gkpositioning', 'gkreflexes']]\n",
    "y = df.overall"
   ]
  },
  {
   "cell_type": "markdown",
   "metadata": {},
   "source": [
    "# Define Models"
   ]
  },
  {
   "cell_type": "code",
   "execution_count": 7,
   "metadata": {},
   "outputs": [],
   "source": [
    "models = []\n",
    "models.append(('LR', linear_model.LinearRegression()))\n",
    "models.append(('BR', linear_model.BayesianRidge(n_iter=1000)))\n",
    "models.append(('Huber', linear_model.HuberRegressor(alpha=0.0001, epsilon=1.35, fit_intercept=True, \n",
    "                                                    max_iter=100, tol=1e-05, warm_start=False)))\n",
    "models.append(('LarsCV', linear_model.LarsCV(max_iter=1000, eps=1.35, cv=10)))\n",
    "models.append(('LassoCV', linear_model.LassoCV(max_iter=1000, cv=5)))\n",
    "models.append(('RF', ensemble.RandomForestRegressor(n_estimators=10)))"
   ]
  },
  {
   "cell_type": "markdown",
   "metadata": {},
   "source": [
    "# Model fitting and prediction"
   ]
  },
  {
   "cell_type": "markdown",
   "metadata": {},
   "source": [
    "## Using cross validation"
   ]
  },
  {
   "cell_type": "code",
   "execution_count": 8,
   "metadata": {},
   "outputs": [],
   "source": [
    "def cv_fit_and_predict(models, X, y):\n",
    "    results = []\n",
    "    train_X, val_X, train_y, val_y = train_test_split(X, y, random_state = 0)\n",
    "    for name, model in models:\n",
    "        model.fit(train_X, train_y)\n",
    "        y_pred = model.predict(val_X)\n",
    "        score = cross_val_score(model, X, y, cv=10)\n",
    "        print('Model {0} score: {1:.4f} and std dev: {2:.4f}'.format(name, score.mean(), score.std()))\n",
    "        # The coefficients\n",
    "        # print('Coefficients: \\n', model.coef_)\n",
    "        # The mean squared error\n",
    "        print(\"Mean squared error: %.4f\"\n",
    "              % mean_squared_error(val_y, y_pred))\n",
    "        print(\"Mean absolute error: %.4f\" %mean_absolute_error(val_y, y_pred))\n",
    "        # Explained variance score: 1 is perfect prediction\n",
    "        print('Variance score: %.4f' % r2_score(val_y, y_pred))\n",
    "        # Regression score \n",
    "        # print('Regression score: %.4f' % model.score(X, y))\n",
    "        results.append((name, score, r2_score(val_y, y_pred)))\n",
    "        try:\n",
    "            i\n",
    "        except NameError:\n",
    "            i=score.mean()-1        \n",
    "        if score.mean() > i :\n",
    "            imodel=model\n",
    "            i=score.mean()\n",
    "\n",
    "    print(\"Done\")\n",
    "    return results\n"
   ]
  },
  {
   "cell_type": "code",
   "execution_count": 9,
   "metadata": {},
   "outputs": [
    {
     "name": "stdout",
     "output_type": "stream",
     "text": [
      "Model LR score: -5.0360 and std dev: 3.5004\n",
      "Mean squared error: 3.4297\n",
      "Mean absolute error: 1.4506\n",
      "Variance score: 0.9274\n",
      "Model BR score: -5.0340 and std dev: 3.5073\n",
      "Mean squared error: 3.4303\n",
      "Mean absolute error: 1.4506\n",
      "Variance score: 0.9274\n",
      "Model Huber score: -5.6204 and std dev: 3.6732\n",
      "Mean squared error: 4.1033\n",
      "Mean absolute error: 1.5875\n",
      "Variance score: 0.9131\n",
      "Model LarsCV score: -8.0375 and std dev: 2.8204\n",
      "Mean squared error: 7.3785\n",
      "Mean absolute error: 2.1449\n",
      "Variance score: 0.8438\n",
      "Model LassoCV score: -5.0982 and std dev: 3.6074\n",
      "Mean squared error: 3.4773\n",
      "Mean absolute error: 1.4607\n",
      "Variance score: 0.9264\n",
      "Model RF score: -3.4342 and std dev: 1.3031\n",
      "Mean squared error: 1.4449\n",
      "Mean absolute error: 0.8204\n",
      "Variance score: 0.9694\n",
      "Done\n"
     ]
    }
   ],
   "source": [
    "results = cv_fit_and_predict(models, X, y)"
   ]
  },
  {
   "cell_type": "markdown",
   "metadata": {},
   "source": [
    "# Validation and Results"
   ]
  },
  {
   "cell_type": "code",
   "execution_count": 10,
   "metadata": {},
   "outputs": [],
   "source": [
    "def model_validation(results):\n",
    "    fig, ax = plt.subplots()\n",
    "    ax.boxplot(results[:,1])\n",
    "    ax.set_xticklabels(results[:,0])\n",
    "    ax.set_title('Model CV score')\n",
    "    plt.show()\n",
    "    \n",
    "    plt.figure(figsize=(8, 5))\n",
    "    plt.bar(results[:,0], results[:,2])\n",
    "    plt.xlabel('Models')\n",
    "    plt.ylabel('Var score')\n",
    "    plt.title('Models variance score')\n",
    "    plt.show()\n",
    "    \n",
    "    return 0"
   ]
  },
  {
   "cell_type": "code",
   "execution_count": 11,
   "metadata": {},
   "outputs": [],
   "source": [
    "results=np.array(results)"
   ]
  },
  {
   "cell_type": "code",
   "execution_count": 12,
   "metadata": {},
   "outputs": [
    {
     "data": {
      "image/png": "[encoded data removed]",
      "text/plain": [
       "<Figure size 432x288 with 1 Axes>"
      ]
     },
     "metadata": {
      "needs_background": "light"
     },
     "output_type": "display_data"
    },
    {
     "data": {
      "image/png": "[encoded data removed]",
      "text/plain": [
       "<Figure size 576x360 with 1 Axes>"
      ]
     },
     "metadata": {
      "needs_background": "light"
     },
     "output_type": "display_data"
    }
   ],
   "source": [
    "status = model_validation(results)"
   ]
  },
  {
   "cell_type": "code",
   "execution_count": null,
   "metadata": {},
   "outputs": [],
   "source": []
  },
  {
   "cell_type": "code",
   "execution_count": null,
   "metadata": {},
   "outputs": [],
   "source": []
  }
 ],
 "metadata": {
  "kernelspec": {
   "display_name": "Python 3",
   "language": "python",
   "name": "python3"
  },
  "language_info": {
   "codemirror_mode": {
    "name": "ipython",
    "version": 3
   },
   "file_extension": ".py",
   "mimetype": "text/x-python",
   "name": "python",
   "nbconvert_exporter": "python",
   "pygments_lexer": "ipython3",
   "version": "3.7.2"
  }
 },
 "nbformat": 4,
 "nbformat_minor": 2
}
