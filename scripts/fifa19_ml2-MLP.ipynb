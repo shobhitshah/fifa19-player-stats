{
 "cells": [
  {
   "cell_type": "markdown",
   "metadata": {},
   "source": [
    "# Initialization"
   ]
  },
  {
   "cell_type": "code",
   "execution_count": 1,
   "metadata": {},
   "outputs": [],
   "source": [
    "import pandas as pd\n",
    "import numpy as np\n",
    "import re\n",
    "from matplotlib import pyplot as plt\n",
    "from sklearn.pipeline import make_pipeline, make_union, FeatureUnion\n",
    "from sklearn.impute import SimpleImputer, MissingIndicator\n",
    "from sklearn.neural_network import MLPRegressor\n",
    "from sklearn.preprocessing import StandardScaler\n",
    "from sklearn.model_selection import StratifiedKFold, KFold\n",
    "from sklearn.model_selection import train_test_split\n"
   ]
  },
  {
   "cell_type": "code",
   "execution_count": 2,
   "metadata": {},
   "outputs": [],
   "source": [
    "train=pd.read_csv('../data/data.csv.zip', compression='zip', index_col=1)\n",
    "train=train.drop(columns=['Unnamed: 0'])"
   ]
  },
  {
   "cell_type": "markdown",
   "metadata": {},
   "source": [
    "# Data cleaning"
   ]
  },
  {
   "cell_type": "code",
   "execution_count": 3,
   "metadata": {},
   "outputs": [],
   "source": [
    "train.columns = train.columns.str.strip().str.lower().str.replace(' ', '_').str.replace('(', '').str.replace(')', '')\n",
    "train=train.drop(columns=['photo', 'flag', 'club_logo'])\n",
    "\n",
    "train['value_unit'] = train['value'].str[-1]\n",
    "train['nvalue'] = np.where(train['value_unit'] == '0', 0,\n",
    "                          train['value'].str[1:-1].replace(r'[a-zA-Z]',''))\n",
    "train['nvalue'] = train['nvalue'].astype(float)\n",
    "train['nvalue'] = np.where(train['value_unit'] == 'M', train['nvalue'], train['nvalue'] / 1000)\n",
    "\n",
    "train['wage_unit'] = train['wage'].str[-1]\n",
    "train['nwage'] = np.where(train['wage_unit'] == '0', 0,\n",
    "                          train['wage'].str[1:-1].replace(r'[a-zA-Z]',''))\n",
    "train['nwage'] = train['nwage'].astype(float)\n",
    "train['nwage'] = np.where(train['wage_unit'] == 'K', train['nwage'], train['nwage'] * 1000)\n"
   ]
  },
  {
   "cell_type": "markdown",
   "metadata": {},
   "source": [
    "# Features selection"
   ]
  },
  {
   "cell_type": "code",
   "execution_count": 4,
   "metadata": {},
   "outputs": [
    {
     "data": {
      "text/plain": [
       "(18207, 88)"
      ]
     },
     "execution_count": 4,
     "metadata": {},
     "output_type": "execute_result"
    }
   ],
   "source": [
    "train.shape"
   ]
  },
  {
   "cell_type": "code",
   "execution_count": 5,
   "metadata": {},
   "outputs": [],
   "source": [
    "features = ['age', 'potential', 'international_reputation',\n",
    "            'weak_foot', 'skill_moves', 'crossing', 'finishing', 'headingaccuracy', \n",
    "            'shortpassing', 'volleys', 'dribbling', 'curve', 'fkaccuracy', 'longpassing',\n",
    "            'ballcontrol', 'acceleration', 'sprintspeed',\n",
    "            'agility', 'reactions', 'balance', 'shotpower', 'jumping', 'stamina', \n",
    "            'strength', 'longshots', 'aggression', 'interceptions', 'positioning', 'vision', \n",
    "            'penalties', 'composure', 'marking', 'standingtackle', 'slidingtackle', 'gkdiving', \n",
    "            'gkhandling', 'gkkicking', 'gkpositioning', 'gkreflexes']\n",
    "\n",
    "target = ['overall']\n"
   ]
  },
  {
   "cell_type": "markdown",
   "metadata": {},
   "source": [
    "# Define model"
   ]
  },
  {
   "cell_type": "code",
   "execution_count": 6,
   "metadata": {},
   "outputs": [],
   "source": [
    "mlp = MLPRegressor(hidden_layer_sizes=(128,128), max_iter=1000, alpha=1e-4,\n",
    "                    solver='adam', verbose=False, tol=1e-4, random_state=1,\n",
    "                    learning_rate_init=.001)\n"
   ]
  },
  {
   "cell_type": "code",
   "execution_count": 7,
   "metadata": {},
   "outputs": [],
   "source": [
    "X = train[features].values\n",
    "y = train.overall.values\n"
   ]
  },
  {
   "cell_type": "markdown",
   "metadata": {},
   "source": [
    "Hold back 10% of the data for test.  There are 18K records in all, so we hold back 1.8K records.\n",
    "We use KFold validation with number of folds = 3 that gives 5K records in the validation set in each iteration.\n",
    "\n",
    "Stratified KFold expects distinct classes in the target, but here the target is numerical (overall), therefore I am using KFold.\n"
   ]
  },
  {
   "cell_type": "code",
   "execution_count": 8,
   "metadata": {},
   "outputs": [],
   "source": [
    "X_train, X_test, y_train, y_test = train_test_split(X, y, test_size=0.10, random_state=41)\n"
   ]
  },
  {
   "cell_type": "markdown",
   "metadata": {},
   "source": [
    "Imputation with missing indicator gives a slightly better score on the test compared to just the imputation without missing indicator.\n",
    "Acknowledgements - https://scikit-learn.org/stable/modules/impute.html#impute\n",
    "\n",
    "Create pipeline to transform the data, scale it and use MLP regressor.\n"
   ]
  },
  {
   "cell_type": "code",
   "execution_count": 9,
   "metadata": {},
   "outputs": [
    {
     "name": "stdout",
     "output_type": "stream",
     "text": [
      "Regressor is:  Pipeline(memory=None,\n",
      "     steps=[('featureunion', FeatureUnion(n_jobs=None,\n",
      "       transformer_list=[('features', SimpleImputer(copy=True, fill_value=None, missing_values=nan, strategy='mean',\n",
      "       verbose=0)), ('indicators', MissingIndicator(error_on_new=True, features='missing-only',\n",
      "         missing_values=nan, sparse='...=True, solver='adam', tol=0.0001,\n",
      "       validation_fraction=0.1, verbose=False, warm_start=False))])\n",
      "Validation score for regressor... 0.9916\n",
      "Validation score for regressor... 0.9895\n",
      "Validation score for regressor... 0.9923\n",
      "Generating test scores for regressor... \n",
      "Test score for regressor... 0.9920\n",
      "Done\n"
     ]
    }
   ],
   "source": [
    "results = []\n",
    "val_results = []\n",
    "#print(\"Processing model: \", mlp)\n",
    "transformer = FeatureUnion(\n",
    "transformer_list=[\n",
    "    ('features', SimpleImputer(strategy='mean'))\n",
    "    ,('indicators', MissingIndicator())\n",
    "])\n",
    "transformer = transformer.fit(X_train, y_train)\n",
    "results = transformer.transform(X_test)\n",
    "results.shape\n",
    "mlp = make_pipeline(transformer, StandardScaler(), mlp)\n",
    "print(\"Regressor is: \", mlp)\n",
    "                       \n",
    "kfold = KFold(n_splits=3, shuffle=True)\n",
    "\n",
    "cv_scores = []\n",
    "for train, val in kfold.split(X_train, y_train):\n",
    "    mlp.fit(X_train[train], y_train[train])\n",
    "    #print(\"Model fit...\")\n",
    "    cv_score = mlp.score(X_train[val], y_train[val])\n",
    "    print(\"Validation score for regressor... %.4f\" % cv_score)\n",
    "    cv_scores.append(cv_score)\n",
    "\n",
    "#val_results.append((model, cv_scores))\n",
    "\n",
    "print(\"Generating test scores for regressor... \")\n",
    "\n",
    "score = mlp.score(X_test, y_test)\n",
    "print(\"Test score for regressor... %.4f\" % score)\n",
    "#results.append((model, score))\n",
    "print(\"Done\")\n"
   ]
  },
  {
   "cell_type": "code",
   "execution_count": null,
   "metadata": {},
   "outputs": [],
   "source": []
  }
 ],
 "metadata": {
  "kernelspec": {
   "display_name": "Python 3",
   "language": "python",
   "name": "python3"
  },
  "language_info": {
   "codemirror_mode": {
    "name": "ipython",
    "version": 3
   },
   "file_extension": ".py",
   "mimetype": "text/x-python",
   "name": "python",
   "nbconvert_exporter": "python",
   "pygments_lexer": "ipython3",
   "version": "3.7.2"
  }
 },
 "nbformat": 4,
 "nbformat_minor": 2
}
