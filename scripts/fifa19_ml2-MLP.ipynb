{
 "cells": [
  {
   "cell_type": "markdown",
   "metadata": {},
   "source": [
    "# Initialization"
   ]
  },
  {
   "cell_type": "code",
   "execution_count": 1,
   "metadata": {},
   "outputs": [],
   "source": [
    "import pandas as pd\n",
    "import numpy as np\n",
    "import re\n",
    "from matplotlib import pyplot as plt\n",
    "from sklearn.pipeline import make_pipeline, make_union, FeatureUnion\n",
    "from sklearn.impute import SimpleImputer, MissingIndicator\n",
    "from sklearn.neural_network import MLPRegressor\n",
    "from sklearn.preprocessing import StandardScaler\n",
    "from sklearn.model_selection import StratifiedKFold, KFold\n",
    "from sklearn.model_selection import train_test_split\n",
    "import my_utils\n"
   ]
  },
  {
   "cell_type": "code",
   "execution_count": 2,
   "metadata": {},
   "outputs": [],
   "source": [
    "train=pd.read_csv('../data/data.csv.zip', compression='zip', index_col=1)\n",
    "train=train.drop(columns=['Unnamed: 0'])"
   ]
  },
  {
   "cell_type": "markdown",
   "metadata": {},
   "source": [
    "# Data cleaning"
   ]
  },
  {
   "cell_type": "code",
   "execution_count": 3,
   "metadata": {},
   "outputs": [
    {
     "data": {
      "text/plain": [
       "Index(['name', 'age', 'nationality', 'overall', 'potential', 'club', 'value',\n",
       "       'wage', 'special', 'preferred_foot', 'international_reputation',\n",
       "       'weak_foot', 'skill_moves', 'work_rate', 'body_type', 'real_face',\n",
       "       'position', 'jersey_number', 'joined', 'loaned_from',\n",
       "       'contract_valid_until', 'height', 'weight', 'ls', 'st', 'rs', 'lw',\n",
       "       'lf', 'cf', 'rf', 'rw', 'lam', 'cam', 'ram', 'lm', 'lcm', 'cm', 'rcm',\n",
       "       'rm', 'lwb', 'ldm', 'cdm', 'rdm', 'rwb', 'lb', 'lcb', 'cb', 'rcb', 'rb',\n",
       "       'crossing', 'finishing', 'headingaccuracy', 'shortpassing', 'volleys',\n",
       "       'dribbling', 'curve', 'fkaccuracy', 'longpassing', 'ballcontrol',\n",
       "       'acceleration', 'sprintspeed', 'agility', 'reactions', 'balance',\n",
       "       'shotpower', 'jumping', 'stamina', 'strength', 'longshots',\n",
       "       'aggression', 'interceptions', 'positioning', 'vision', 'penalties',\n",
       "       'composure', 'marking', 'standingtackle', 'slidingtackle', 'gkdiving',\n",
       "       'gkhandling', 'gkkicking', 'gkpositioning', 'gkreflexes',\n",
       "       'release_clause', 'value_unit', 'nvalue', 'wage_unit', 'nwage'],\n",
       "      dtype='object')"
      ]
     },
     "execution_count": 3,
     "metadata": {},
     "output_type": "execute_result"
    }
   ],
   "source": [
    "train.columns = my_utils.clean_column_names(train)\n",
    "train = my_utils.preprocess_columns(train)\n",
    "train.columns"
   ]
  },
  {
   "cell_type": "markdown",
   "metadata": {},
   "source": [
    "# Features selection"
   ]
  },
  {
   "cell_type": "code",
   "execution_count": 4,
   "metadata": {},
   "outputs": [
    {
     "data": {
      "text/plain": [
       "(18207, 88)"
      ]
     },
     "execution_count": 4,
     "metadata": {},
     "output_type": "execute_result"
    }
   ],
   "source": [
    "train.shape"
   ]
  },
  {
   "cell_type": "code",
   "execution_count": 5,
   "metadata": {},
   "outputs": [],
   "source": [
    "features = ['age', 'potential', 'international_reputation',\n",
    "            'weak_foot', 'skill_moves', 'crossing', 'finishing', 'headingaccuracy', \n",
    "            'shortpassing', 'volleys', 'dribbling', 'curve', 'fkaccuracy', 'longpassing',\n",
    "            'ballcontrol', 'acceleration', 'sprintspeed',\n",
    "            'agility', 'reactions', 'balance', 'shotpower', 'jumping', 'stamina', \n",
    "            'strength', 'longshots', 'aggression', 'interceptions', 'positioning', 'vision', \n",
    "            'penalties', 'composure', 'marking', 'standingtackle', 'slidingtackle', 'gkdiving', \n",
    "            'gkhandling', 'gkkicking', 'gkpositioning', 'gkreflexes']\n",
    "\n",
    "target = ['overall']\n"
   ]
  },
  {
   "cell_type": "markdown",
   "metadata": {},
   "source": [
    "# Define model"
   ]
  },
  {
   "cell_type": "code",
   "execution_count": 6,
   "metadata": {},
   "outputs": [],
   "source": [
    "mlp = MLPRegressor(hidden_layer_sizes=(128,128), max_iter=1000, alpha=1e-4,\n",
    "                    solver='adam', verbose=False, tol=1e-4, random_state=1,\n",
    "                    learning_rate_init=.001)\n"
   ]
  },
  {
   "cell_type": "code",
   "execution_count": 7,
   "metadata": {},
   "outputs": [],
   "source": [
    "X = train[features].values\n",
    "y = train.overall.values\n"
   ]
  },
  {
   "cell_type": "markdown",
   "metadata": {},
   "source": [
    "Hold back 10% of the data for test.  There are 18K records in all, so we hold back 1.8K records.\n",
    "We use KFold validation with number of folds = 3 that gives 5K records in the validation set in each iteration.\n",
    "\n",
    "Stratified KFold expects distinct classes in the target, but here the target is numerical (overall), therefore I am using KFold.\n"
   ]
  },
  {
   "cell_type": "code",
   "execution_count": 8,
   "metadata": {},
   "outputs": [],
   "source": [
    "X_train, X_test, y_train, y_test = train_test_split(X, y, test_size=0.10, random_state=41)\n"
   ]
  },
  {
   "cell_type": "markdown",
   "metadata": {},
   "source": [
    "Imputation with missing indicator gives a slightly better score on the test compared to just the imputation without missing indicator.\n",
    "Acknowledgements - https://scikit-learn.org/stable/modules/impute.html#impute\n",
    "\n",
    "Create pipeline to transform the data, scale it and use MLP regressor.\n"
   ]
  },
  {
   "cell_type": "code",
   "execution_count": 9,
   "metadata": {},
   "outputs": [
    {
     "name": "stdout",
     "output_type": "stream",
     "text": [
      "Validation score for regressor... 0.9923\n",
      "Validation score for regressor... 0.9922\n",
      "Validation score for regressor... 0.9918\n",
      "Generating test scores for regressor... \n",
      "Test score for regressor... 0.9926\n",
      "Done\n"
     ]
    }
   ],
   "source": [
    "results = []\n",
    "val_results = []\n",
    "#print(\"Processing model: \", mlp)\n",
    "transformer = FeatureUnion(\n",
    "transformer_list=[\n",
    "    ('features', SimpleImputer(strategy='mean'))\n",
    "    ,('indicators', MissingIndicator())\n",
    "])\n",
    "transformer = transformer.fit(X_train, y_train)\n",
    "results = transformer.transform(X_test)\n",
    "results.shape\n",
    "mlp = make_pipeline(transformer, StandardScaler(), mlp)\n",
    "# print(\"Regressor is: \", mlp)\n",
    "                       \n",
    "kfold = KFold(n_splits=3, shuffle=True)\n",
    "\n",
    "cv_scores = []\n",
    "for train, val in kfold.split(X_train, y_train):\n",
    "    mlp.fit(X_train[train], y_train[train])\n",
    "    #print(\"Model fit...\")\n",
    "    cv_score = mlp.score(X_train[val], y_train[val])\n",
    "    print(\"Validation score for regressor... %.4f\" % cv_score)\n",
    "    cv_scores.append(cv_score)\n",
    "\n",
    "#val_results.append((model, cv_scores))\n",
    "\n",
    "print(\"Generating test scores for regressor... \")\n",
    "\n",
    "score = mlp.score(X_test, y_test)\n",
    "print(\"Test score for regressor... %.4f\" % score)\n",
    "#results.append((model, score))\n",
    "print(\"Done\")\n"
   ]
  },
  {
   "cell_type": "code",
   "execution_count": null,
   "metadata": {},
   "outputs": [],
   "source": []
  }
 ],
 "metadata": {
  "kernelspec": {
   "display_name": "Python 3",
   "language": "python",
   "name": "python3"
  },
  "language_info": {
   "codemirror_mode": {
    "name": "ipython",
    "version": 3
   },
   "file_extension": ".py",
   "mimetype": "text/x-python",
   "name": "python",
   "nbconvert_exporter": "python",
   "pygments_lexer": "ipython3",
   "version": "3.7.2"
  }
 },
 "nbformat": 4,
 "nbformat_minor": 2
}
