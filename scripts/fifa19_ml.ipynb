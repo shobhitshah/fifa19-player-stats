{
 "cells": [
  {
   "cell_type": "markdown",
   "metadata": {},
   "source": [
    "# Initialization"
   ]
  },
  {
   "cell_type": "code",
   "execution_count": 1,
   "metadata": {},
   "outputs": [],
   "source": [
    "import pandas as pd\n",
    "import numpy as np\n",
    "import re\n",
    "from sklearn.model_selection import KFold\n",
    "from sklearn.model_selection import cross_val_score\n",
    "from sklearn.model_selection import cross_val_predict\n",
    "from matplotlib import pyplot as plt\n",
    "from sklearn.ensemble import RandomForestClassifier\n",
    "from sklearn import svm\n",
    "from sklearn.metrics import mean_squared_error, r2_score\n",
    "from sklearn import linear_model"
   ]
  },
  {
   "cell_type": "code",
   "execution_count": 2,
   "metadata": {},
   "outputs": [],
   "source": [
    "train=pd.read_csv('../data/data.csv.zip', compression='zip', index_col=1)\n",
    "train=train.drop(columns=['Unnamed: 0'])"
   ]
  },
  {
   "cell_type": "markdown",
   "metadata": {},
   "source": [
    "# Data Cleaning"
   ]
  },
  {
   "cell_type": "code",
   "execution_count": 3,
   "metadata": {},
   "outputs": [],
   "source": [
    "train.columns = train.columns.str.strip().str.lower().str.replace(' ', '_').str.replace('(', '').str.replace(')', '')\n",
    "train=train.drop(columns=['photo', 'flag', 'club_logo'])\n",
    "\n",
    "train['value_unit'] = train['value'].str[-1]\n",
    "train['nvalue'] = np.where(train['value_unit'] == '0', 0,\n",
    "                          train['value'].str[1:-1].replace(r'[a-zA-Z]',''))\n",
    "train['nvalue'] = train['nvalue'].astype(float)\n",
    "train['nvalue'] = np.where(train['value_unit'] == 'M', train['nvalue'], train['nvalue'] / 1000)\n",
    "\n",
    "train['wage_unit'] = train['wage'].str[-1]\n",
    "train['nwage'] = np.where(train['wage_unit'] == '0', 0,\n",
    "                          train['wage'].str[1:-1].replace(r'[a-zA-Z]',''))\n",
    "train['nwage'] = train['nwage'].astype(float)\n",
    "train['nwage'] = np.where(train['wage_unit'] == 'K', train['nwage'], train['nwage'] * 1000)\n"
   ]
  },
  {
   "cell_type": "code",
   "execution_count": 4,
   "metadata": {},
   "outputs": [],
   "source": [
    "train.dropna(subset=['nvalue', 'aggression', 'overall', 'age', 'potential', 'international_reputation',\n",
    "                    'weak_foot', 'skill_moves', 'crossing', 'finishing', 'headingaccuracy', \n",
    "                    'shortpassing', 'volleys', 'dribbling', 'curve', 'fkaccuracy', 'longpassing',\n",
    "                    'ballcontrol', 'acceleration', 'sprintspeed',\n",
    "                    'agility', 'reactions', 'balance', 'shotpower', 'jumping', 'stamina', 'strength',\n",
    "                    'longshots', 'aggression', 'interceptions', 'positioning', 'vision', 'penalties',\n",
    "                    'composure', 'marking', 'standingtackle', 'slidingtackle', 'gkdiving', \n",
    "                    'gkhandling', 'gkkicking', 'gkpositioning', 'gkreflexes', 'nwage'], inplace=True)\n"
   ]
  },
  {
   "cell_type": "markdown",
   "metadata": {},
   "source": [
    "# Modelling"
   ]
  },
  {
   "cell_type": "markdown",
   "metadata": {},
   "source": [
    "## Predictingt the overall rating of a player"
   ]
  },
  {
   "cell_type": "code",
   "execution_count": 5,
   "metadata": {},
   "outputs": [],
   "source": [
    "X = train[['nvalue', 'aggression', 'age', 'potential', 'international_reputation',\n",
    "                    'weak_foot', 'skill_moves', 'crossing', 'finishing', 'headingaccuracy', \n",
    "                    'shortpassing', 'volleys', 'dribbling', 'curve', 'fkaccuracy', 'longpassing',\n",
    "                    'ballcontrol', 'acceleration', 'sprintspeed',\n",
    "                    'agility', 'reactions', 'balance', 'shotpower', 'jumping', 'stamina', 'strength',\n",
    "                    'longshots', 'aggression', 'interceptions', 'positioning', 'vision', 'penalties',\n",
    "                    'composure', 'marking', 'standingtackle', 'slidingtackle', 'gkdiving', \n",
    "                    'gkhandling', 'gkkicking', 'gkpositioning', 'gkreflexes', 'nwage']]\n",
    "y = train.overall"
   ]
  },
  {
   "cell_type": "code",
   "execution_count": 22,
   "metadata": {},
   "outputs": [],
   "source": [
    "models = []\n",
    "models.append(('LR', linear_model.LinearRegression()))\n",
    "## models.append(('SGD', linear_model.SGDRegressor(max_iter=1000, tol=1e-3)))\n",
    "models.append(('BR', linear_model.BayesianRidge(n_iter=1000)))\n",
    "models.append(('Huber', linear_model.HuberRegressor(alpha=0.0001, epsilon=1.35, fit_intercept=True, \n",
    "                                                    max_iter=100, tol=1e-05, warm_start=False)))\n",
    "models.append(('LarsCV', linear_model.LarsCV(max_iter=1000, eps=1.35, cv=10)))\n",
    "models.append(('LassoCV', linear_model.LassoCV(max_iter=1000, cv=5)))\n",
    "#models.append(('LLCV', linear_model.LassoLarsCV(max_iter=1000, cv=5, eps=10)))\n",
    "\n",
    "## models.append(('ARD', linear_model.ARDRegression()))\n"
   ]
  },
  {
   "cell_type": "code",
   "execution_count": 23,
   "metadata": {},
   "outputs": [
    {
     "name": "stdout",
     "output_type": "stream",
     "text": [
      "Model LRscore: -5.2240 and std dev: 2.7816\n",
      "Mean squared error: 3.2520\n",
      "Variance score: 0.9320\n",
      "Model BRscore: -5.2298 and std dev: 2.7776\n",
      "Mean squared error: 3.2523\n",
      "Variance score: 0.9320\n",
      "Model Huberscore: -4.8594 and std dev: 2.6750\n",
      "Mean squared error: 3.6645\n",
      "Variance score: 0.9234\n",
      "Model LarsCVscore: -9.3387 and std dev: 4.1027\n",
      "Mean squared error: 7.0550\n",
      "Variance score: 0.8524\n",
      "Model LassoCVscore: -5.2733 and std dev: 2.7759\n",
      "Mean squared error: 3.4498\n",
      "Variance score: 0.9278\n",
      "Done\n"
     ]
    }
   ],
   "source": [
    "nfolds=10\n",
    "results = []\n",
    "for name, model in models:\n",
    "    kf = KFold(n_splits=nfolds, random_state=17)\n",
    "    model.fit(X, y)\n",
    "    y_pred = model.predict(X)\n",
    "    score = cross_val_score(model, X, y, cv=kf)\n",
    "    print('Model {0}score: {1:.4f} and std dev: {2:.4f}'.format(name, score.mean(), score.std()))\n",
    "    # The coefficients\n",
    "    # print('Coefficients: \\n', model.coef_)\n",
    "    # The mean squared error\n",
    "    print(\"Mean squared error: %.4f\"\n",
    "          % mean_squared_error(y, y_pred))\n",
    "    # Explained variance score: 1 is perfect prediction\n",
    "    print('Variance score: %.4f' % r2_score(y, y_pred))\n",
    "    # Regression score \n",
    "    # print('Regression score: %.4f' % model.score(X, y))\n",
    "    results.append((name, score, r2_score(y, y_pred)))\n",
    "    try:\n",
    "        i\n",
    "    except NameError:\n",
    "        i=score.mean()-1        \n",
    "    if score.mean() > i :\n",
    "        imodel=model\n",
    "        i=score.mean()\n",
    "\n",
    "print(\"Done\")\n"
   ]
  },
  {
   "cell_type": "markdown",
   "metadata": {},
   "source": [
    "# Results"
   ]
  },
  {
   "cell_type": "code",
   "execution_count": 24,
   "metadata": {},
   "outputs": [],
   "source": [
    "results=np.array(results)"
   ]
  },
  {
   "cell_type": "code",
   "execution_count": 25,
   "metadata": {},
   "outputs": [
    {
     "data": {
      "text/plain": [
       "<Figure size 936x576 with 0 Axes>"
      ]
     },
     "metadata": {},
     "output_type": "display_data"
    },
    {
     "data": {
      "image/png": "[encoded data removed]",
      "text/plain": [
       "<Figure size 432x288 with 1 Axes>"
      ]
     },
     "metadata": {
      "needs_background": "light"
     },
     "output_type": "display_data"
    }
   ],
   "source": [
    "plt.figure(figsize=(13, 8))\n",
    "fig, ax = plt.subplots()\n",
    "\n",
    "ax.boxplot(results[:,1])\n",
    "ax.set_xticklabels(results[:,0])\n",
    "ax.set_title('Algorithm comparision')\n",
    "\n",
    "plt.show()"
   ]
  },
  {
   "cell_type": "code",
   "execution_count": 26,
   "metadata": {},
   "outputs": [
    {
     "name": "stdout",
     "output_type": "stream",
     "text": [
      "Best performing model HuberRegressor(alpha=0.0001, epsilon=1.35, fit_intercept=True, max_iter=100,\n",
      "        tol=1e-05, warm_start=False)\n"
     ]
    },
    {
     "data": {
      "image/png": "[encoded data removed]",
      "text/plain": [
       "<Figure size 936x576 with 1 Axes>"
      ]
     },
     "metadata": {
      "needs_background": "light"
     },
     "output_type": "display_data"
    }
   ],
   "source": [
    "rf = np.array(models)[5:,1]\n",
    "fi = imodel.fit(X, y).coef_\n",
    "pos = np.arange(len(X.columns))\n",
    "print(\"Best performing model\", imodel)\n",
    "plt.figure(figsize=(13, 8))\n",
    "plt.barh(pos, fi)\n",
    "plt.title(\"Feature Importance\")\n",
    "plt.xlabel(\"Model Accuracy\")\n",
    "plt.ylabel(\"Features\")\n",
    "plt.yticks(pos, (list(X)))\n",
    "plt.show()"
   ]
  },
  {
   "cell_type": "code",
   "execution_count": null,
   "metadata": {},
   "outputs": [],
   "source": []
  }
 ],
 "metadata": {
  "kernelspec": {
   "display_name": "Python 3",
   "language": "python",
   "name": "python3"
  },
  "language_info": {
   "codemirror_mode": {
    "name": "ipython",
    "version": 3
   },
   "file_extension": ".py",
   "mimetype": "text/x-python",
   "name": "python",
   "nbconvert_exporter": "python",
   "pygments_lexer": "ipython3",
   "version": "3.7.2"
  }
 },
 "nbformat": 4,
 "nbformat_minor": 2
}
