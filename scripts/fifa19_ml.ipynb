{
 "cells": [
  {
   "cell_type": "markdown",
   "metadata": {},
   "source": [
    "# Initialization"
   ]
  },
  {
   "cell_type": "code",
   "execution_count": 1,
   "metadata": {},
   "outputs": [],
   "source": [
    "import pandas as pd\n",
    "import numpy as np\n",
    "import re\n",
    "from sklearn.model_selection import KFold\n",
    "from sklearn.model_selection import cross_val_score\n",
    "from sklearn.model_selection import cross_val_predict\n",
    "from matplotlib import pyplot as plt\n",
    "from sklearn.ensemble import RandomForestClassifier\n",
    "from sklearn import svm\n",
    "from sklearn.metrics import mean_squared_error, r2_score\n",
    "from sklearn import linear_model\n",
    "from sklearn import ensemble\n",
    "from sklearn.neural_network import MLPRegressor\n",
    "from sklearn.model_selection import train_test_split\n",
    "import my_utils\n"
   ]
  },
  {
   "cell_type": "code",
   "execution_count": 2,
   "metadata": {},
   "outputs": [],
   "source": [
    "train=pd.read_csv('../data/data.csv.zip', compression='zip', index_col=1)\n",
    "train=train.drop(columns=['Unnamed: 0'])"
   ]
  },
  {
   "cell_type": "markdown",
   "metadata": {},
   "source": [
    "# Data Cleaning"
   ]
  },
  {
   "cell_type": "code",
   "execution_count": 3,
   "metadata": {},
   "outputs": [
    {
     "data": {
      "text/plain": [
       "Index(['name', 'age', 'nationality', 'overall', 'potential', 'club', 'value',\n",
       "       'wage', 'special', 'preferred_foot', 'international_reputation',\n",
       "       'weak_foot', 'skill_moves', 'work_rate', 'body_type', 'real_face',\n",
       "       'position', 'jersey_number', 'joined', 'loaned_from',\n",
       "       'contract_valid_until', 'height', 'weight', 'ls', 'st', 'rs', 'lw',\n",
       "       'lf', 'cf', 'rf', 'rw', 'lam', 'cam', 'ram', 'lm', 'lcm', 'cm', 'rcm',\n",
       "       'rm', 'lwb', 'ldm', 'cdm', 'rdm', 'rwb', 'lb', 'lcb', 'cb', 'rcb', 'rb',\n",
       "       'crossing', 'finishing', 'headingaccuracy', 'shortpassing', 'volleys',\n",
       "       'dribbling', 'curve', 'fkaccuracy', 'longpassing', 'ballcontrol',\n",
       "       'acceleration', 'sprintspeed', 'agility', 'reactions', 'balance',\n",
       "       'shotpower', 'jumping', 'stamina', 'strength', 'longshots',\n",
       "       'aggression', 'interceptions', 'positioning', 'vision', 'penalties',\n",
       "       'composure', 'marking', 'standingtackle', 'slidingtackle', 'gkdiving',\n",
       "       'gkhandling', 'gkkicking', 'gkpositioning', 'gkreflexes',\n",
       "       'release_clause', 'value_unit', 'nvalue', 'wage_unit', 'nwage'],\n",
       "      dtype='object')"
      ]
     },
     "execution_count": 3,
     "metadata": {},
     "output_type": "execute_result"
    }
   ],
   "source": [
    "train.columns = my_utils.clean_column_names(train)\n",
    "train = my_utils.preprocess_columns(train)\n",
    "train.columns"
   ]
  },
  {
   "cell_type": "code",
   "execution_count": 4,
   "metadata": {},
   "outputs": [],
   "source": [
    "train.dropna(subset=['aggression', 'overall', 'age', 'potential', \n",
    "                    'international_reputation',\n",
    "                    'weak_foot', 'skill_moves', 'crossing', 'finishing', 'headingaccuracy', \n",
    "                    'shortpassing', 'volleys', 'dribbling', 'curve', 'fkaccuracy', 'longpassing',\n",
    "                    'ballcontrol', 'acceleration', 'sprintspeed',\n",
    "                    'agility', 'reactions', 'balance', 'shotpower', 'jumping', 'stamina', \n",
    "                    'strength',\n",
    "                    'longshots', 'aggression', 'interceptions', 'positioning', 'vision', \n",
    "                    'penalties',\n",
    "                    'composure', 'marking', 'standingtackle', 'slidingtackle', 'gkdiving', \n",
    "                    'gkhandling', 'gkkicking', 'gkpositioning', 'gkreflexes'], \n",
    "             inplace=True)\n"
   ]
  },
  {
   "cell_type": "markdown",
   "metadata": {},
   "source": [
    "# Modelling"
   ]
  },
  {
   "cell_type": "markdown",
   "metadata": {},
   "source": [
    "## Predicting the overall rating of a player"
   ]
  },
  {
   "cell_type": "markdown",
   "metadata": {},
   "source": [
    "Excluding value and wage from the feature set.\n",
    "Its a chicken and egg problem.  Does the overall rating dictate wage and value or wage and value dictate the rating.\n",
    "I think the overall rating define the wage and value."
   ]
  },
  {
   "cell_type": "code",
   "execution_count": 5,
   "metadata": {},
   "outputs": [],
   "source": [
    "X = train[['aggression', 'age', 'potential', 'international_reputation',\n",
    "            'weak_foot', 'skill_moves', 'crossing', 'finishing', 'headingaccuracy', \n",
    "            'shortpassing', 'volleys', 'dribbling', 'curve', 'fkaccuracy', 'longpassing',\n",
    "            'ballcontrol', 'acceleration', 'sprintspeed',\n",
    "            'agility', 'reactions', 'balance', 'shotpower', 'jumping', 'stamina', 'strength',\n",
    "            'longshots', 'aggression', 'interceptions', 'positioning', 'vision', 'penalties',\n",
    "            'composure', 'marking', 'standingtackle', 'slidingtackle', 'gkdiving', \n",
    "            'gkhandling', 'gkkicking', 'gkpositioning', 'gkreflexes']]\n",
    "y = train.overall"
   ]
  },
  {
   "cell_type": "code",
   "execution_count": 6,
   "metadata": {},
   "outputs": [],
   "source": [
    "models = []\n",
    "models.append(('LR', linear_model.LinearRegression()))\n",
    "## models.append(('SGD', linear_model.SGDRegressor(max_iter=1000, tol=1e-3)))\n",
    "models.append(('BR', linear_model.BayesianRidge(n_iter=1000)))\n",
    "models.append(('Huber', linear_model.HuberRegressor(alpha=0.0001, epsilon=1.35, fit_intercept=True, \n",
    "                                                    max_iter=100, tol=1e-05, warm_start=False)))\n",
    "models.append(('LarsCV', linear_model.LarsCV(max_iter=1000, eps=1.35, cv=10)))\n",
    "models.append(('LassoCV', linear_model.LassoCV(max_iter=1000, cv=5)))\n",
    "#models.append(('LLCV', linear_model.LassoLarsCV(max_iter=1000, cv=5, eps=10)))\n",
    "models.append(('RF', ensemble.RandomForestRegressor(n_estimators=10)))\n",
    "\n",
    "## models.append(('ARD', linear_model.ARDRegression()))\n"
   ]
  },
  {
   "cell_type": "code",
   "execution_count": 7,
   "metadata": {},
   "outputs": [
    {
     "name": "stdout",
     "output_type": "stream",
     "text": [
      "Model LR score: -5.0360 and std dev: 3.5004\n",
      "Mean squared error: 3.4654\n",
      "Variance score: 0.9275\n",
      "Model BR score: -5.0340 and std dev: 3.5073\n",
      "Mean squared error: 3.4656\n",
      "Variance score: 0.9275\n",
      "Model Huber score: -5.6204 and std dev: 3.6732\n",
      "Mean squared error: 4.1712\n",
      "Variance score: 0.9128\n",
      "Model LarsCV score: -8.0375 and std dev: 2.8204\n",
      "Mean squared error: 7.5471\n",
      "Variance score: 0.8421\n",
      "Model LassoCV score: -5.0982 and std dev: 3.6074\n",
      "Mean squared error: 3.5064\n",
      "Variance score: 0.9267\n",
      "Model RF score: -3.3853 and std dev: 1.3277\n",
      "Mean squared error: 0.2554\n",
      "Variance score: 0.9947\n",
      "Done\n"
     ]
    }
   ],
   "source": [
    "nfolds=10\n",
    "results = []\n",
    "for name, model in models:\n",
    "    kf = KFold(n_splits=nfolds, random_state=17)\n",
    "    model.fit(X, y)\n",
    "    y_pred = model.predict(X)\n",
    "    score = cross_val_score(model, X, y, cv=kf)\n",
    "    print('Model {0} score: {1:.4f} and std dev: {2:.4f}'.format(name, score.mean(), score.std()))\n",
    "    # The coefficients\n",
    "    # print('Coefficients: \\n', model.coef_)\n",
    "    # The mean squared error\n",
    "    print(\"Mean squared error: %.4f\"\n",
    "          % mean_squared_error(y, y_pred))\n",
    "    # Explained variance score: 1 is perfect prediction\n",
    "    print('Variance score: %.4f' % r2_score(y, y_pred))\n",
    "    # Regression score \n",
    "    # print('Regression score: %.4f' % model.score(X, y))\n",
    "    results.append((name, score, r2_score(y, y_pred)))\n",
    "    try:\n",
    "        i\n",
    "    except NameError:\n",
    "        i=score.mean()-1        \n",
    "    if score.mean() > i :\n",
    "        imodel=model\n",
    "        i=score.mean()\n",
    "\n",
    "print(\"Done\")\n"
   ]
  },
  {
   "cell_type": "markdown",
   "metadata": {},
   "source": [
    "# Results"
   ]
  },
  {
   "cell_type": "code",
   "execution_count": 8,
   "metadata": {},
   "outputs": [],
   "source": [
    "results=np.array(results)"
   ]
  },
  {
   "cell_type": "code",
   "execution_count": 9,
   "metadata": {},
   "outputs": [
    {
     "data": {
      "image/png": "[encoded data removed]",
      "text/plain": [
       "<Figure size 432x288 with 1 Axes>"
      ]
     },
     "metadata": {
      "needs_background": "light"
     },
     "output_type": "display_data"
    }
   ],
   "source": [
    "fig, ax = plt.subplots()\n",
    "ax.boxplot(results[:,1])\n",
    "ax.set_xticklabels(results[:,0])\n",
    "ax.set_title('Model CV score')\n",
    "plt.show()"
   ]
  },
  {
   "cell_type": "code",
   "execution_count": 10,
   "metadata": {},
   "outputs": [
    {
     "data": {
      "image/png": "[encoded data removed]",
      "text/plain": [
       "<Figure size 576x360 with 1 Axes>"
      ]
     },
     "metadata": {
      "needs_background": "light"
     },
     "output_type": "display_data"
    }
   ],
   "source": [
    "plt.figure(figsize=(8, 5))\n",
    "plt.bar(results[:,0], results[:,2])\n",
    "plt.xlabel('Models')\n",
    "plt.ylabel('Var score')\n",
    "plt.title('Models variance score')\n",
    "plt.show()"
   ]
  },
  {
   "cell_type": "code",
   "execution_count": 11,
   "metadata": {},
   "outputs": [
    {
     "name": "stdout",
     "output_type": "stream",
     "text": [
      "Best performing model RandomForestRegressor(bootstrap=True, criterion='mse', max_depth=None,\n",
      "           max_features='auto', max_leaf_nodes=None,\n",
      "           min_impurity_decrease=0.0, min_impurity_split=None,\n",
      "           min_samples_leaf=1, min_samples_split=2,\n",
      "           min_weight_fraction_leaf=0.0, n_estimators=10, n_jobs=None,\n",
      "           oob_score=False, random_state=None, verbose=0, warm_start=False)\n"
     ]
    },
    {
     "data": {
      "image/png": "[encoded data removed]",
      "text/plain": [
       "<Figure size 936x576 with 1 Axes>"
      ]
     },
     "metadata": {
      "needs_background": "light"
     },
     "output_type": "display_data"
    }
   ],
   "source": [
    "# fi = imodel.fit(X, y).coef_\n",
    "fi = imodel.fit(X, y).feature_importances_\n",
    "pos = np.arange(len(X.columns))\n",
    "print(\"Best performing model\", imodel)\n",
    "plt.figure(figsize=(13, 8))\n",
    "plt.barh(pos, fi)\n",
    "plt.title(\"Feature Importance\")\n",
    "plt.xlabel(\"Model Accuracy\")\n",
    "plt.ylabel(\"Features\")\n",
    "plt.yticks(pos, (list(X)))\n",
    "plt.show()\n"
   ]
  }
 ],
 "metadata": {
  "kernelspec": {
   "display_name": "Python 3",
   "language": "python",
   "name": "python3"
  },
  "language_info": {
   "codemirror_mode": {
    "name": "ipython",
    "version": 3
   },
   "file_extension": ".py",
   "mimetype": "text/x-python",
   "name": "python",
   "nbconvert_exporter": "python",
   "pygments_lexer": "ipython3",
   "version": "3.7.2"
  }
 },
 "nbformat": 4,
 "nbformat_minor": 2
}
