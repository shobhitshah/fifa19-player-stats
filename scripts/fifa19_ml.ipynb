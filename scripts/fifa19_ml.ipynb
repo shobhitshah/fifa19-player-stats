{
 "cells": [
  {
   "cell_type": "markdown",
   "metadata": {},
   "source": [
    "# Initialization"
   ]
  },
  {
   "cell_type": "code",
   "execution_count": 14,
   "metadata": {},
   "outputs": [],
   "source": [
    "import pandas as pd\n",
    "import numpy as np\n",
    "import re\n",
    "from sklearn.linear_model import LinearRegression\n",
    "from sklearn.linear_model import SGDRegressor\n",
    "from sklearn.model_selection import KFold\n",
    "from sklearn.model_selection import cross_val_score\n",
    "from sklearn.model_selection import cross_val_predict\n",
    "from matplotlib import pyplot as plt\n",
    "from sklearn.ensemble import RandomForestClassifier\n",
    "from sklearn import svm\n",
    "from sklearn.metrics import mean_squared_error, r2_score\n",
    "from sklearn.linear_model import ARDRegression\n",
    "from sklearn.linear_model import BayesianRidge"
   ]
  },
  {
   "cell_type": "code",
   "execution_count": 15,
   "metadata": {},
   "outputs": [],
   "source": [
    "train=pd.read_csv('../data/data.csv.zip', compression='zip', index_col=1)\n",
    "train=train.drop(columns=['Unnamed: 0'])"
   ]
  },
  {
   "cell_type": "markdown",
   "metadata": {},
   "source": [
    "# Data Cleaning"
   ]
  },
  {
   "cell_type": "code",
   "execution_count": 16,
   "metadata": {},
   "outputs": [],
   "source": [
    "train.columns = train.columns.str.strip().str.lower().str.replace(' ', '_').str.replace('(', '').str.replace(')', '')\n",
    "train=train.drop(columns=['photo', 'flag', 'club_logo'])\n",
    "\n",
    "train['value_unit'] = train['value'].str[-1]\n",
    "train['nvalue'] = np.where(train['value_unit'] == '0', 0,\n",
    "                          train['value'].str[1:-1].replace(r'[a-zA-Z]',''))\n",
    "train['nvalue'] = train['nvalue'].astype(float)\n",
    "train['nvalue'] = np.where(train['value_unit'] == 'M', train['nvalue'], train['nvalue'] / 1000)\n",
    "\n",
    "train['wage_unit'] = train['wage'].str[-1]\n",
    "train['nwage'] = np.where(train['wage_unit'] == '0', 0,\n",
    "                          train['wage'].str[1:-1].replace(r'[a-zA-Z]',''))\n",
    "train['nwage'] = train['nwage'].astype(float)\n",
    "train['nwage'] = np.where(train['wage_unit'] == 'K', train['nwage'], train['nwage'] * 1000)\n"
   ]
  },
  {
   "cell_type": "code",
   "execution_count": 17,
   "metadata": {},
   "outputs": [],
   "source": [
    "train.dropna(subset=['nvalue', 'aggression', 'overall', 'age', 'potential', 'international_reputation',\n",
    "                    'weak_foot', 'skill_moves', 'crossing', 'finishing', 'headingaccuracy', \n",
    "                    'shortpassing', 'volleys', 'dribbling', 'curve', 'fkaccuracy', 'longpassing',\n",
    "                    'ballcontrol', 'acceleration', 'sprintspeed',\n",
    "                    'agility', 'reactions', 'balance', 'shotpower', 'jumping', 'stamina', 'strength',\n",
    "                    'longshots', 'aggression', 'interceptions', 'positioning', 'vision', 'penalties',\n",
    "                    'composure', 'marking', 'standingtackle', 'slidingtackle', 'gkdiving', \n",
    "                    'gkhandling', 'gkkicking', 'gkpositioning', 'gkreflexes', 'nwage'], inplace=True)\n"
   ]
  },
  {
   "cell_type": "markdown",
   "metadata": {},
   "source": [
    "# Modelling"
   ]
  },
  {
   "cell_type": "markdown",
   "metadata": {},
   "source": [
    "## Predictingt the overall rating of a player"
   ]
  },
  {
   "cell_type": "code",
   "execution_count": null,
   "metadata": {},
   "outputs": [],
   "source": [
    "X = train[['nvalue', 'aggression', 'age', 'potential', 'international_reputation',\n",
    "                    'weak_foot', 'skill_moves', 'crossing', 'finishing', 'headingaccuracy', \n",
    "                    'shortpassing', 'volleys', 'dribbling', 'curve', 'fkaccuracy', 'longpassing',\n",
    "                    'ballcontrol', 'acceleration', 'sprintspeed',\n",
    "                    'agility', 'reactions', 'balance', 'shotpower', 'jumping', 'stamina', 'strength',\n",
    "                    'longshots', 'aggression', 'interceptions', 'positioning', 'vision', 'penalties',\n",
    "                    'composure', 'marking', 'standingtackle', 'slidingtackle', 'gkdiving', \n",
    "                    'gkhandling', 'gkkicking', 'gkpositioning', 'gkreflexes', 'nwage']]\n",
    "y = train.overall"
   ]
  },
  {
   "cell_type": "code",
   "execution_count": null,
   "metadata": {},
   "outputs": [],
   "source": [
    "models = []\n",
    "models.append(('LR', LinearRegression()))\n",
    "models.append(('SGD', SGDRegressor(max_iter=1000, tol=1e-3)))\n",
    "models.append(('ARD', ARDRegression()))\n",
    "models.append(('BR', BayesianRidge()))\n"
   ]
  },
  {
   "cell_type": "code",
   "execution_count": null,
   "metadata": {},
   "outputs": [
    {
     "name": "stdout",
     "output_type": "stream",
     "text": [
      "Model score and std dev LR -5.608716605178189 2.980139959918183\n",
      "Mean squared error: 3.42\n",
      "Variance score: 0.93\n",
      "Regression score: 0.93\n",
      "Model score and std dev SGD -8.597546069827622e+25 1.1071139184990446e+26\n",
      "Mean squared error: 84251049957601848951046144.00\n",
      "Variance score: -1762233722755156533051392.00\n",
      "Regression score: -1762233722755156533051392.00\n"
     ]
    }
   ],
   "source": [
    "nfolds=10\n",
    "i=-10\n",
    "results = []\n",
    "for name, model in models:\n",
    "    kf = KFold(n_splits=nfolds, random_state=17)\n",
    "    model.fit(X, y)\n",
    "    y_pred = model.predict(X)\n",
    "    score = cross_val_score(model, X, y, cv=kf)\n",
    "    print('Model score and std dev', name, score.mean(), score.std())\n",
    "    # The coefficients\n",
    "    # print('Coefficients: \\n', model.coef_)\n",
    "    # The mean squared error\n",
    "    print(\"Mean squared error: %.2f\"\n",
    "          % mean_squared_error(y, y_pred))\n",
    "    # Explained variance score: 1 is perfect prediction\n",
    "    print('Variance score: %.2f' % r2_score(y, y_pred))\n",
    "    # Regression score \n",
    "    print('Regression score: %.2f' % model.score(X, y))\n",
    "    results.append((name, score))\n",
    "    if i is None or score.mean() > i :\n",
    "        imodel=model\n",
    "        i=score.mean()\n",
    "\n",
    "print(\"Done\")\n"
   ]
  },
  {
   "cell_type": "markdown",
   "metadata": {},
   "source": [
    "# Results"
   ]
  },
  {
   "cell_type": "code",
   "execution_count": null,
   "metadata": {},
   "outputs": [],
   "source": [
    "results=np.array(results)"
   ]
  },
  {
   "cell_type": "code",
   "execution_count": null,
   "metadata": {},
   "outputs": [],
   "source": [
    "fig, ax = plt.subplots()\n",
    "ax.boxplot(results[:,1])\n",
    "ax.set_xticklabels(results[:,0])\n",
    "ax.set_title('Algorithm comparision')\n",
    "plt.show()"
   ]
  },
  {
   "cell_type": "code",
   "execution_count": null,
   "metadata": {},
   "outputs": [],
   "source": [
    "rf = np.array(models)[5:,1]\n",
    "fi = imodel.fit(X, y).coef_\n",
    "pos = np.arange(len(X.columns))\n",
    "print(\"Best performing model\", imodel)\n",
    "plt.figure(figsize=(13, 8))\n",
    "plt.barh(pos, fi)\n",
    "plt.title(\"Feature Importance\")\n",
    "plt.xlabel(\"Model Accuracy\")\n",
    "plt.ylabel(\"Features\")\n",
    "plt.yticks(pos, (list(X)))\n",
    "plt.show()"
   ]
  },
  {
   "cell_type": "code",
   "execution_count": null,
   "metadata": {},
   "outputs": [],
   "source": []
  }
 ],
 "metadata": {
  "kernelspec": {
   "display_name": "Python 3",
   "language": "python",
   "name": "python3"
  },
  "language_info": {
   "codemirror_mode": {
    "name": "ipython",
    "version": 3
   },
   "file_extension": ".py",
   "mimetype": "text/x-python",
   "name": "python",
   "nbconvert_exporter": "python",
   "pygments_lexer": "ipython3",
   "version": "3.7.2"
  }
 },
 "nbformat": 4,
 "nbformat_minor": 2
}
